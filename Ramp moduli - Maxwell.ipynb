{
 "cells": [
  {
   "cell_type": "code",
   "execution_count": 1,
   "metadata": {},
   "outputs": [],
   "source": [
    "using RHEOS\n",
    "using PyPlot"
   ]
  },
  {
   "cell_type": "markdown",
   "metadata": {},
   "source": [
    "# Example Notebook code"
   ]
  },
  {
   "cell_type": "code",
   "execution_count": 2,
   "metadata": {},
   "outputs": [
    {
     "name": "stderr",
     "output_type": "stream",
     "text": [
      "┌ Warning: Initial values for model parameters are set to [0.5, 0.5] by default\n",
      "└ @ RHEOS C:\\Users\\sanja\\.julia\\packages\\RHEOS\\UUrax\\src\\processing.jl:250\n"
     ]
    },
    {
     "name": "stdout",
     "output_type": "stream",
     "text": [
      "Time: 3.6549028 s, Why: XTOL_REACHED, Parameters: [4.0054017305374146, 2.003000020980835], Error: 0.022310985023643978\n"
     ]
    },
    {
     "data": {
      "text/plain": [
       "\n",
       "Model: maxwell\n",
       "\n",
       "Parameter values: (η = 4.0054017305374146, k = 2.003000020980835) \n",
       "\n",
       "                ___\n",
       "            _____| |________╱╲  ╱╲  ╱╲  ___\n",
       "                _|_|          ╲╱  ╲╱  ╲╱\n",
       "                  η                  k\n",
       "               "
      ]
     },
     "execution_count": 2,
     "metadata": {},
     "output_type": "execute_result"
    }
   ],
   "source": [
    "data = importcsv(\"data_time.csv\", t_col=1, ϵ_col=2, σ_col=3);\n",
    "# RheoTimeDataType(data)\n",
    "\n",
    "maxwell_model = modelfit(data, Maxwell, strain_imposed, diff_method = \"BD\")"
   ]
  },
  {
   "cell_type": "code",
   "execution_count": 3,
   "metadata": {},
   "outputs": [
    {
     "data": {
      "image/png": "[encoded data removed]",
      "text/plain": [
       "Figure(PyObject <Figure size 640x480 with 1 Axes>)"
      ]
     },
     "metadata": {},
     "output_type": "display_data"
    }
   ],
   "source": [
    "data_ext = extract(data,strain_only);\n",
    "# alternatively: data_ext = extract(data,1);\n",
    "\n",
    "# RheoTimeDataType(data_ext)\n",
    "\n",
    "maxwell_predict = modelpredict(data_ext, maxwell_model, diff_method = \"BD\")\n",
    "\n",
    "# Now we can plot data and model together for comparison\n",
    "plot(data.t,data.σ, \"o\", markersize = 5);\n",
    "plot(maxwell_predict.t,maxwell_predict.σ, color = \"red\");\n",
    "xlabel(\"Time\");\n",
    "ylabel(\"Stress\");"
   ]
  },
  {
   "cell_type": "markdown",
   "metadata": {},
   "source": [
    "# Modified Maxwell"
   ]
  },
  {
   "cell_type": "code",
   "execution_count": 4,
   "metadata": {},
   "outputs": [],
   "source": [
    "data = importcsv(\"data_time.csv\", t_col=1, ϵ_col=2, σ_col=3);\n",
    "RheoTimeDataType(data)\n",
    "\n",
    "# data.ϵ;"
   ]
  },
  {
   "cell_type": "code",
   "execution_count": 5,
   "metadata": {},
   "outputs": [
    {
     "name": "stdout",
     "output_type": "stream",
     "text": [
      "search:\n",
      "\n",
      "Couldn't find \u001b[36mderivBD\u001b[39m\n",
      "Perhaps you meant div\n"
     ]
    },
    {
     "data": {
      "text/latex": [
       "No documentation found.\n",
       "\n",
       "Binding \\texttt{derivBD} does not exist.\n",
       "\n"
      ],
      "text/markdown": [
       "No documentation found.\n",
       "\n",
       "Binding `derivBD` does not exist.\n"
      ],
      "text/plain": [
       "  No documentation found.\n",
       "\n",
       "  Binding \u001b[36mderivBD\u001b[39m does not exist."
      ]
     },
     "execution_count": 5,
     "metadata": {},
     "output_type": "execute_result"
    }
   ],
   "source": [
    "?derivBD"
   ]
  },
  {
   "cell_type": "code",
   "execution_count": 6,
   "metadata": {},
   "outputs": [
    {
     "data": {
      "text/plain": [
       "myderivCD (generic function with 1 method)"
      ]
     },
     "execution_count": 6,
     "metadata": {},
     "output_type": "execute_result"
    }
   ],
   "source": [
    "# For some reason, wasn't able to use the derivBD and derivCD functions - maybe because they are defined in base.jl??\n",
    "\"\"\"\n",
    "    derivBD(y, x)\n",
    "Given two arrays of data, x and y, calculate dy/dx using 1st order\n",
    "backward difference. Assumes y==0 at a previous point, i.e.\n",
    "y is 'at rest'. Captures instantaneous loading where derivCD will smooth.\n",
    "\"\"\"\n",
    "function myderivBD(y::Vector{RheoFloat}, x::Vector{RheoFloat})\n",
    "\n",
    "    # get length\n",
    "    N = length(x)\n",
    "\n",
    "    # assert y and x arrays are same length\n",
    "    @assert length(y)==N \"X and Y Array lengths must match.\"\n",
    "\n",
    "    # initialise zero array of length y\n",
    "    ydot = similar(y)\n",
    "\n",
    "    # assume 'imaginary' previous point is 0.0, and Δx is the same as the next one ahead\n",
    "    # this is a physical assumption that material is at rest before first data point.\n",
    "    # Could be problematic in some cases if sudden jump as we are actually missing\n",
    "    # important information about how quickly that jump happened.\n",
    "    @inbounds ydot[1] = y[1]/(x[2] - x[1])\n",
    "\n",
    "    # backwards difference method for rest of points\n",
    "    @inbounds for i in 2:N\n",
    "        ydot[i] = (y[i] - y[i-1])/(x[i] - x[i-1])\n",
    "    end\n",
    "\n",
    "    return ydot\n",
    "\n",
    "end\n",
    "\n",
    "function myderivCD(y::Vector{RheoFloat}, x::Vector{RheoFloat})\n",
    "\n",
    "    # get length\n",
    "    N = length(x)\n",
    "\n",
    "    # assert y and x arrays are same length\n",
    "    @assert length(y)==N \"X and Y Array lengths must match.\"\n",
    "\n",
    "    # initialise zero array of length y\n",
    "    ydot = similar(y)\n",
    "\n",
    "    # assume 'imaginary' previous point is 0.0, and Δx is the same as the next one ahead\n",
    "    # this is a physical assumption that material is at rest before first data point.\n",
    "    # Could be problematic in some cases if sudden jump as we are actually missing\n",
    "    # important information about how quickly that jump happened.\n",
    "    @inbounds ydot[1] = y[1]/(x[2] - x[1])\n",
    "\n",
    "    # central difference with uneven spacing for general case of constant or variable sample rate\n",
    "    @inbounds for i in 2:(N-1)\n",
    "        Δx₁ = x[i] - x[i-1]\n",
    "        Δx₂ = x[i+1] - x[i]\n",
    "        ydot[i] = (y[i+1]*Δx₁^2 + (Δx₂^2 - Δx₁^2)*y[i] - y[i-1]*Δx₂^2)/(Δx₁*Δx₂*(Δx₁ + Δx₂))\n",
    "    end\n",
    "\n",
    "    # 1st order backwards difference for last element\n",
    "    ydot[N] = (y[N] - y[N-1])/(x[N] - x[N-1])\n",
    "\n",
    "    return ydot\n",
    "\n",
    "end\n"
   ]
  },
  {
   "cell_type": "code",
   "execution_count": 18,
   "metadata": {},
   "outputs": [
    {
     "data": {
      "text/plain": []
     },
     "execution_count": 18,
     "metadata": {},
     "output_type": "execute_result"
    },
    {
     "name": "stdout",
     "output_type": "stream",
     "text": [
      "t =\t0.0\t0.1\t0.2\t0.3\t0.4\t0.5\t0.6\t0.7\t0.8\t0.9\t...\n",
      "ϵ =\t0.0\t0.0\t0.0\t0.0\t0.0\t0.0\t0.0\t0.0\t0.0\t0.0\t...\n",
      "σ =\t-0.0171\t-0.0243\t-0.0219\t-0.00235\t-0.0124\t-0.0135\t-0.00391\t0.0125\t0.0166\t-0.0149\t...\n"
     ]
    }
   ],
   "source": [
    "# my_ϵ = myderivBD(data.ϵ, data.t); # derivative is done \n",
    "my_ϵ = myderivCD(data.ϵ, data.t);\n",
    "\n",
    "# typeof(data.ϵ)\n",
    "\n",
    "new_data = RheoTimeData(data.σ, my_ϵ, data.t, data.log)"
   ]
  },
  {
   "cell_type": "code",
   "execution_count": 19,
   "metadata": {},
   "outputs": [
    {
     "data": {
      "text/plain": [
       "\n",
       "Model name: rmaxwell\n",
       "\n",
       "Free parameters: η and k\n",
       "\n",
       "                ___\n",
       "            _____| |________╱╲  ╱╲  ╱╲  ___\n",
       "                _|_|          ╲╱  ╲╱  ╲╱\n",
       "                  η                  k\n",
       "               "
      ]
     },
     "execution_count": 19,
     "metadata": {},
     "output_type": "execute_result"
    }
   ],
   "source": [
    "rMaxwell = RheoModelClass(\n",
    "        # Model name\n",
    "        name=\"rmaxwell\",\n",
    "        # Model parameters,\n",
    "        p = [:η, :k],\n",
    "        # Relaxation modulus\n",
    "        G = quote \n",
    "              # k*exp(-k*t/η)\n",
    "\n",
    "                η*(1 - exp(-k*t/η))\n",
    "                \n",
    "            end,\n",
    "        # Creep modulus\n",
    "        J = quote\n",
    "              # t/η + 1/k\n",
    "                (t^2/(2*η) + t/k)\n",
    "            end,\n",
    "        # Storage modulus\n",
    "        Gp = quote # -- TODO\n",
    "                denominator = 1 + η^2*ω^2/k^2\n",
    "                numerator = η^2*ω^2/k\n",
    "                numerator/denominator\n",
    "             end,\n",
    "       # Loss modulus\n",
    "        Gpp = quote # -- TODO\n",
    "                denominator = 1 + η^2*ω^2/k^2\n",
    "                numerator = η*ω\n",
    "                numerator/denominator\n",
    "              end,\n",
    "        # Network\n",
    "        info= \"\n",
    "                ___\n",
    "            _____| |________╱╲  ╱╲  ╱╲  ___\n",
    "                _|_|          ╲╱  ╲╱  ╲╱\n",
    "                  η                  k\n",
    "               \"\n",
    "        )"
   ]
  },
  {
   "cell_type": "code",
   "execution_count": 20,
   "metadata": {},
   "outputs": [
    {
     "name": "stdout",
     "output_type": "stream",
     "text": [
      "Time: 0.021636599 s, Why: XTOL_REACHED, Parameters: [4.047002792358398, 2.108898162841797], Error: 0.11338713640847202\n"
     ]
    },
    {
     "name": "stderr",
     "output_type": "stream",
     "text": [
      "┌ Warning: Initial values for model parameters are set to [0.5, 0.5] by default\n",
      "└ @ RHEOS C:\\Users\\sanja\\.julia\\packages\\RHEOS\\UUrax\\src\\processing.jl:250\n"
     ]
    },
    {
     "data": {
      "text/plain": [
       "\n",
       "Model: rmaxwell\n",
       "\n",
       "Parameter values: (η = 4.047002792358398, k = 2.108898162841797) \n",
       "\n",
       "                ___\n",
       "            _____| |________╱╲  ╱╲  ╱╲  ___\n",
       "                _|_|          ╲╱  ╲╱  ╲╱\n",
       "                  η                  k\n",
       "               "
      ]
     },
     "execution_count": 20,
     "metadata": {},
     "output_type": "execute_result"
    }
   ],
   "source": [
    "rmaxwell_model = modelfit(new_data, rMaxwell, strain_imposed)"
   ]
  },
  {
   "cell_type": "code",
   "execution_count": 21,
   "metadata": {},
   "outputs": [
    {
     "data": {
      "image/png": "[encoded data removed]",
      "text/plain": [
       "Figure(PyObject <Figure size 640x480 with 1 Axes>)"
      ]
     },
     "metadata": {},
     "output_type": "display_data"
    }
   ],
   "source": [
    "data_ext = extract(new_data,strain_only); # use the d(strain) for prediction\n",
    "# alternatively: data_ext = extract(data,1);\n",
    "\n",
    "# RheoTimeDataType(data_ext)\n",
    "\n",
    "rmaxwell_predict = modelpredict(data_ext, rmaxwell_model, diff_method = \"CD\")\n",
    "# NOTE: Getting significant differences between BD and CD\n",
    "\n",
    "# Now we can plot data and model together for comparison\n",
    "plot(data.t,data.σ, \"o\", markersize = 5);\n",
    "# plot(rmaxwell_predict.t,myderivCD(rmaxwell_predict.σ, rmaxwell_predict.t), color = \"red\");\n",
    "plot(rmaxwell_predict.t,rmaxwell_predict.σ, color = \"red\");\n",
    "xlabel(\"Time\");\n",
    "ylabel(\"Stress\");"
   ]
  },
  {
   "cell_type": "markdown",
   "metadata": {},
   "source": [
    "# Modified code test - KV"
   ]
  },
  {
   "cell_type": "code",
   "execution_count": 136,
   "metadata": {},
   "outputs": [
    {
     "data": {
      "text/plain": [
       "strain_and_stress::TimeDataType = 3"
      ]
     },
     "execution_count": 136,
     "metadata": {},
     "output_type": "execute_result"
    }
   ],
   "source": [
    "data = importcsv(\"data_time.csv\", t_col=1, ϵ_col=2, σ_col=3);\n",
    "RheoTimeDataType(data)"
   ]
  },
  {
   "cell_type": "code",
   "execution_count": 137,
   "metadata": {},
   "outputs": [
    {
     "data": {
      "text/plain": []
     },
     "execution_count": 137,
     "metadata": {},
     "output_type": "execute_result"
    },
    {
     "name": "stdout",
     "output_type": "stream",
     "text": [
      "t =\t0.0\t0.1\t0.2\t0.3\t0.4\t0.5\t0.6\t0.7\t0.8\t0.9\t...\n",
      "ϵ =\t0.0\t0.0\t0.0\t0.0\t0.0\t0.0\t0.0\t0.0\t0.0\t0.0\t...\n",
      "σ =\t-0.0171\t-0.0243\t-0.0219\t-0.00235\t-0.0124\t-0.0135\t-0.00391\t0.0125\t0.0166\t-0.0149\t...\n"
     ]
    }
   ],
   "source": [
    "my_ϵ = myderivCD(data.ϵ, data.t);\n",
    "data = RheoTimeData(data.σ, my_ϵ, data.t, data.log)"
   ]
  },
  {
   "cell_type": "code",
   "execution_count": 138,
   "metadata": {},
   "outputs": [
    {
     "data": {
      "text/plain": [
       "\n",
       "Model name: KV\n",
       "\n",
       "Free parameters: η and k\n",
       "\n",
       "                        ___\n",
       "                _________| |________\n",
       "               |        _|_| η      |\n",
       "           ____|                    |____\n",
       "               |                    |\n",
       "               |____╱╲  ╱╲  ╱╲  ____|\n",
       "                      ╲╱  ╲╱  ╲╱\n",
       "                                k\n",
       "                "
      ]
     },
     "execution_count": 138,
     "metadata": {},
     "output_type": "execute_result"
    }
   ],
   "source": [
    "KelvinVoigt_ramp =  RheoModelClass(\n",
    "        # Model name\n",
    "        name=\"KV\",\n",
    "        # Model parameters,\n",
    "        p = [:η, :k],\n",
    "        # Relaxation modulus\n",
    "        G = quote\n",
    "              k*t+η\n",
    "            end,\n",
    "        # Creep modulus\n",
    "        J = quote\n",
    "                (t/k) - (η/(k^2)) + (η*exp(-k*t/η)/(k^2))\n",
    "              # (1 - exp(-k*t/η))/k\n",
    "            end,\n",
    "        # Storage modulus\n",
    "        Gp = quote\n",
    "                k\n",
    "             end,\n",
    "        # Loss modulus\n",
    "        Gpp = quote\n",
    "                η*ω\n",
    "              end,\n",
    "        # Network\n",
    "        info= \"\n",
    "                        ___\n",
    "                _________| |________\n",
    "               |        _|_| η      |\n",
    "           ____|                    |____\n",
    "               |                    |\n",
    "               |____╱╲  ╱╲  ╱╲  ____|\n",
    "                      ╲╱  ╲╱  ╲╱\n",
    "                                k\n",
    "                \"\n",
    "                )"
   ]
  },
  {
   "cell_type": "code",
   "execution_count": 139,
   "metadata": {},
   "outputs": [
    {
     "name": "stdout",
     "output_type": "stream",
     "text": [
      "Time: 0.0071523 s, Why: XTOL_REACHED, Parameters: [1.183018684387207, 0.3767833709716797], Error: 36.343690628330094\n"
     ]
    },
    {
     "name": "stderr",
     "output_type": "stream",
     "text": [
      "┌ Warning: Initial values for model parameters are set to [0.5, 0.5] by default\n",
      "└ @ RHEOS C:\\Users\\sanja\\.julia\\packages\\RHEOS\\UUrax\\src\\processing.jl:250\n"
     ]
    },
    {
     "data": {
      "text/plain": [
       "\n",
       "Model: KV\n",
       "\n",
       "Parameter values: (η = 1.183018684387207, k = 0.3767833709716797) \n",
       "\n",
       "                        ___\n",
       "                _________| |________\n",
       "               |        _|_| η      |\n",
       "           ____|                    |____\n",
       "               |                    |\n",
       "               |____╱╲  ╱╲  ╱╲  ____|\n",
       "                      ╲╱  ╲╱  ╲╱\n",
       "                                k\n",
       "                "
      ]
     },
     "execution_count": 139,
     "metadata": {},
     "output_type": "execute_result"
    }
   ],
   "source": [
    "kv_ramp = modelfit(data, KelvinVoigt_ramp, strain_imposed)"
   ]
  },
  {
   "cell_type": "code",
   "execution_count": 140,
   "metadata": {},
   "outputs": [
    {
     "data": {
      "text/plain": [
       "strain_only::TimeDataType = 1"
      ]
     },
     "execution_count": 140,
     "metadata": {},
     "output_type": "execute_result"
    }
   ],
   "source": [
    "data_ext = extract(data,strain_only);\n",
    "# alternatively: data_ext = extract(data,1);\n",
    "\n",
    "RheoTimeDataType(data_ext)"
   ]
  },
  {
   "cell_type": "code",
   "execution_count": 141,
   "metadata": {},
   "outputs": [
    {
     "data": {
      "image/png": "[encoded data removed]",
      "text/plain": [
       "Figure(PyObject <Figure size 640x480 with 1 Axes>)"
      ]
     },
     "metadata": {},
     "output_type": "display_data"
    }
   ],
   "source": [
    "kv_ramp_predict = modelpredict(data_ext, kv_ramp)\n",
    "\n",
    "# Now we can plot data and model together for comparison\n",
    "plot(data.t,data.σ, \"o\", markersize = 5);\n",
    "plot(kv_ramp_predict.t,kv_ramp_predict.σ, color = \"red\");\n",
    "xlabel(\"Time\");\n",
    "ylabel(\"Stress\");"
   ]
  },
  {
   "cell_type": "code",
   "execution_count": null,
   "metadata": {},
   "outputs": [],
   "source": []
  }
 ],
 "metadata": {
  "kernelspec": {
   "display_name": "Julia 1.5.1",
   "language": "julia",
   "name": "julia-1.5"
  },
  "language_info": {
   "file_extension": ".jl",
   "mimetype": "application/julia",
   "name": "julia",
   "version": "1.5.1"
  }
 },
 "nbformat": 4,
 "nbformat_minor": 4
}
