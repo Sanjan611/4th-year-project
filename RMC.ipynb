{
 "cells": [
  {
   "cell_type": "code",
   "execution_count": 3,
   "metadata": {},
   "outputs": [],
   "source": [
    "using RHEOS\n",
    "using PyPlot"
   ]
  },
  {
   "cell_type": "code",
   "execution_count": 9,
   "metadata": {},
   "outputs": [
    {
     "data": {
      "text/plain": [
       "\n",
       "Model name: KV\n",
       "\n",
       "Free parameters: η and k\n",
       "\n",
       "                        ___\n",
       "                _________| |________\n",
       "               |        _|_| η      |\n",
       "           ____|                    |____\n",
       "               |                    |\n",
       "               |____╱╲  ╱╲  ╱╲  ____|\n",
       "                      ╲╱  ╲╱  ╲╱\n",
       "                                k\n",
       "                "
      ]
     },
     "execution_count": 9,
     "metadata": {},
     "output_type": "execute_result"
    }
   ],
   "source": [
    "mykv = KelvinVoigt"
   ]
  },
  {
   "cell_type": "code",
   "execution_count": 10,
   "metadata": {},
   "outputs": [
    {
     "data": {
      "text/plain": [
       "RheoModelClass"
      ]
     },
     "execution_count": 10,
     "metadata": {},
     "output_type": "execute_result"
    }
   ],
   "source": [
    "typeof(mykv)"
   ]
  },
  {
   "cell_type": "code",
   "execution_count": 13,
   "metadata": {},
   "outputs": [
    {
     "ename": "LoadError",
     "evalue": "type RheoModelClass has no field _p",
     "output_type": "error",
     "traceback": [
      "type RheoModelClass has no field _p",
      "",
      "Stacktrace:",
      " [1] getproperty(::RheoModelClass, ::Symbol) at .\\Base.jl:33",
      " [2] top-level scope at In[13]:1",
      " [3] include_string(::Function, ::Module, ::String, ::String) at .\\loading.jl:1091"
     ]
    }
   ],
   "source": [
    "mykv._p"
   ]
  },
  {
   "cell_type": "code",
   "execution_count": null,
   "metadata": {},
   "outputs": [],
   "source": []
  }
 ],
 "metadata": {
  "kernelspec": {
   "display_name": "Julia 1.5.1",
   "language": "julia",
   "name": "julia-1.5"
  },
  "language_info": {
   "file_extension": ".jl",
   "mimetype": "application/julia",
   "name": "julia",
   "version": "1.5.1"
  }
 },
 "nbformat": 4,
 "nbformat_minor": 4
}
