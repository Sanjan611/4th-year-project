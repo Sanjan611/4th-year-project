{
 "cells": [
  {
   "cell_type": "code",
   "execution_count": 1,
   "metadata": {},
   "outputs": [],
   "source": [
    "using RHEOS\n",
    "using PyPlot"
   ]
  },
  {
   "cell_type": "markdown",
   "metadata": {},
   "source": [
    "# Define new Kelvin-Voigt and the deriv functions"
   ]
  },
  {
   "cell_type": "code",
   "execution_count": 29,
   "metadata": {},
   "outputs": [
    {
     "data": {
      "text/plain": [
       "\n",
       "Model name: KV\n",
       "\n",
       "Free parameters: η and k\n",
       "\n",
       "                        ___\n",
       "                _________| |________\n",
       "               |        _|_| η      |\n",
       "           ____|                    |____\n",
       "               |                    |\n",
       "               |____╱╲  ╱╲  ╱╲  ____|\n",
       "                      ╲╱  ╲╱  ╲╱\n",
       "                                k\n",
       "                "
      ]
     },
     "execution_count": 29,
     "metadata": {},
     "output_type": "execute_result"
    }
   ],
   "source": [
    "rKelvinVoigt =  RheoModelClass(\n",
    "        # Model name\n",
    "        name=\"KV\",\n",
    "        # Model parameters,\n",
    "        p = [:η, :k],\n",
    "        # Relaxation modulus\n",
    "        G = quote\n",
    "              k*t+η\n",
    "            end,\n",
    "        # Creep modulus\n",
    "        J = quote\n",
    "                (t/k) - (η/(k^2)) + (η*exp(-k*t/η)/(k^2))\n",
    "              # (1 - exp(-k*t/η))/k\n",
    "            end,\n",
    "        # Storage modulus\n",
    "        Gp = quote\n",
    "                k\n",
    "             end,\n",
    "        # Loss modulus\n",
    "        Gpp = quote\n",
    "                η*ω\n",
    "              end,\n",
    "        # Network\n",
    "        info= \"\n",
    "                        ___\n",
    "                _________| |________\n",
    "               |        _|_| η      |\n",
    "           ____|                    |____\n",
    "               |                    |\n",
    "               |____╱╲  ╱╲  ╱╲  ____|\n",
    "                      ╲╱  ╲╱  ╲╱\n",
    "                                k\n",
    "                \"\n",
    "                )"
   ]
  },
  {
   "cell_type": "code",
   "execution_count": 30,
   "metadata": {},
   "outputs": [
    {
     "data": {
      "text/plain": [
       "myderivCD (generic function with 1 method)"
      ]
     },
     "execution_count": 30,
     "metadata": {},
     "output_type": "execute_result"
    }
   ],
   "source": [
    "# For some reason, wasn't able to use the derivBD and derivCD functions - maybe because they are defined in base.jl??\n",
    "\"\"\"\n",
    "    derivBD(y, x)\n",
    "Given two arrays of data, x and y, calculate dy/dx using 1st order\n",
    "backward difference. Assumes y==0 at a previous point, i.e.\n",
    "y is 'at rest'. Captures instantaneous loading where derivCD will smooth.\n",
    "\"\"\"\n",
    "function myderivBD(y::Vector{RheoFloat}, x::Vector{RheoFloat})\n",
    "\n",
    "    # get length\n",
    "    N = length(x)\n",
    "\n",
    "    # assert y and x arrays are same length\n",
    "    @assert length(y)==N \"X and Y Array lengths must match.\"\n",
    "\n",
    "    # initialise zero array of length y\n",
    "    ydot = similar(y)\n",
    "\n",
    "    # assume 'imaginary' previous point is 0.0, and Δx is the same as the next one ahead\n",
    "    # this is a physical assumption that material is at rest before first data point.\n",
    "    # Could be problematic in some cases if sudden jump as we are actually missing\n",
    "    # important information about how quickly that jump happened.\n",
    "    @inbounds ydot[1] = y[1]/(x[2] - x[1])\n",
    "\n",
    "    # backwards difference method for rest of points\n",
    "    @inbounds for i in 2:N\n",
    "        ydot[i] = (y[i] - y[i-1])/(x[i] - x[i-1])\n",
    "    end\n",
    "\n",
    "    return ydot\n",
    "\n",
    "end\n",
    "\n",
    "function myderivCD(y::Vector{RheoFloat}, x::Vector{RheoFloat})\n",
    "\n",
    "    # get length\n",
    "    N = length(x)\n",
    "\n",
    "    # assert y and x arrays are same length\n",
    "    @assert length(y)==N \"X and Y Array lengths must match.\"\n",
    "\n",
    "    # initialise zero array of length y\n",
    "    ydot = similar(y)\n",
    "\n",
    "    # assume 'imaginary' previous point is 0.0, and Δx is the same as the next one ahead\n",
    "    # this is a physical assumption that material is at rest before first data point.\n",
    "    # Could be problematic in some cases if sudden jump as we are actually missing\n",
    "    # important information about how quickly that jump happened.\n",
    "    @inbounds ydot[1] = y[1]/(x[2] - x[1])\n",
    "\n",
    "    # central difference with uneven spacing for general case of constant or variable sample rate\n",
    "    @inbounds for i in 2:(N-1)\n",
    "        Δx₁ = x[i] - x[i-1]\n",
    "        Δx₂ = x[i+1] - x[i]\n",
    "        ydot[i] = (y[i+1]*Δx₁^2 + (Δx₂^2 - Δx₁^2)*y[i] - y[i-1]*Δx₂^2)/(Δx₁*Δx₂*(Δx₁ + Δx₂))\n",
    "    end\n",
    "\n",
    "    # 1st order backwards difference for last element\n",
    "    ydot[N] = (y[N] - y[N-1])/(x[N] - x[N-1])\n",
    "\n",
    "    return ydot\n",
    "\n",
    "end\n"
   ]
  },
  {
   "cell_type": "markdown",
   "metadata": {},
   "source": [
    "# Create RheoTimeData and get response to some input"
   ]
  },
  {
   "cell_type": "code",
   "execution_count": 31,
   "metadata": {},
   "outputs": [
    {
     "data": {
      "text/plain": [
       "time_only::TimeDataType = 0"
      ]
     },
     "execution_count": 31,
     "metadata": {},
     "output_type": "execute_result"
    }
   ],
   "source": [
    "datat = timeline(t_start=0, t_end=20.0, step = 0.02)\n",
    "RheoTimeDataType(datat)"
   ]
  },
  {
   "cell_type": "code",
   "execution_count": 32,
   "metadata": {},
   "outputs": [
    {
     "data": {
      "text/plain": []
     },
     "execution_count": 32,
     "metadata": {},
     "output_type": "execute_result"
    },
    {
     "name": "stdout",
     "output_type": "stream",
     "text": [
      "t =\t0.0\t0.02\t0.04\t0.06\t0.08\t0.1\t0.12\t0.14\t0.16\t0.18\t...\n",
      "σ =\t0.0\t0.0\t0.0\t0.0\t0.0\t0.0\t0.0\t0.0\t0.0\t0.0\t...\n"
     ]
    }
   ],
   "source": [
    "# data = strainfunction(datat,hstep(offset=5.0,amp=5));\n",
    "# data = strainfunction(datat, t->sin(t))\n",
    "# data = strainfunction(datat,ramp(offset=2.0,gradient=0.8));\n",
    "# data = strainfunction(datat, ramp(offset=2.0, gradient = 0.8)) - strainfunction(datat, ramp(offset = 5.0, gradient = 0.8))\n",
    "\n",
    "data = stressfunction(datat, ramp(offset=2.0, gradient = 0.8)) - stressfunction(datat, ramp(offset = 5.0, gradient = 0.8))\n",
    "# data = stressfunction(datat, t->sin(t))\n",
    "# data = stressfunction(datat, t->cos(t))"
   ]
  },
  {
   "cell_type": "code",
   "execution_count": 33,
   "metadata": {},
   "outputs": [
    {
     "data": {
      "image/png": "[encoded data removed]",
      "text/plain": [
       "Figure(PyObject <Figure size 640x480 with 1 Axes>)"
      ]
     },
     "metadata": {},
     "output_type": "display_data"
    },
    {
     "data": {
      "text/plain": [
       "1-element Array{PyCall.PyObject,1}:\n",
       " PyObject <matplotlib.lines.Line2D object at 0x000000003BA10F40>"
      ]
     },
     "execution_count": 33,
     "metadata": {},
     "output_type": "execute_result"
    }
   ],
   "source": [
    "plot(data.t, data.σ)"
   ]
  },
  {
   "cell_type": "markdown",
   "metadata": {},
   "source": [
    "Now to get the target response"
   ]
  },
  {
   "cell_type": "code",
   "execution_count": 34,
   "metadata": {},
   "outputs": [
    {
     "data": {
      "text/plain": []
     },
     "execution_count": 34,
     "metadata": {},
     "output_type": "execute_result"
    },
    {
     "name": "stdout",
     "output_type": "stream",
     "text": [
      "t =\t0.0\t0.02\t0.04\t0.06\t0.08\t0.1\t0.12\t0.14\t0.16\t0.18\t...\n",
      "ϵ =\t0.0\t3.2481953634747437e-16\t5.774569535066211e-16\t6.496390726949487e-16\t7.218211918832764e-17\t-3.2481953634747437e-16\t-2.5263741715914673e-16\t-6.857301322891125e-16\t-6.857301322891125e-16\t5.413658939124572e-16\t...\n",
      "σ =\t0.0\t0.0\t0.0\t0.0\t0.0\t0.0\t0.0\t0.0\t0.0\t0.0\t...\n"
     ]
    }
   ],
   "source": [
    "rkv_model = RheoModel(rKelvinVoigt, k = 4, η = 5)\n",
    "\n",
    "my_σ = myderivCD(data.σ, data.t); # differentiate the σ\n",
    "data = RheoTimeData(my_σ, [], data.t, data.log)\n",
    "d_kv = modelpredict(data, rkv_model)"
   ]
  },
  {
   "cell_type": "code",
   "execution_count": 35,
   "metadata": {},
   "outputs": [
    {
     "data": {
      "image/png": "[encoded data removed]",
      "text/plain": [
       "Figure(PyObject <Figure size 640x480 with 1 Axes>)"
      ]
     },
     "metadata": {},
     "output_type": "display_data"
    },
    {
     "data": {
      "text/plain": [
       "1-element Array{PyCall.PyObject,1}:\n",
       " PyObject <matplotlib.lines.Line2D object at 0x000000003BA7A550>"
      ]
     },
     "execution_count": 35,
     "metadata": {},
     "output_type": "execute_result"
    }
   ],
   "source": [
    "plot(d_kv.t,d_kv.σ, \"b\")\n",
    "plot(d_kv.t, d_kv.ϵ, \"r\")"
   ]
  },
  {
   "cell_type": "markdown",
   "metadata": {},
   "source": [
    "# Create a new KV and fit to the data"
   ]
  },
  {
   "cell_type": "markdown",
   "metadata": {},
   "source": [
    "We use the new model to to generate the target data to fit to."
   ]
  },
  {
   "cell_type": "code",
   "execution_count": 37,
   "metadata": {},
   "outputs": [],
   "source": [
    "rkv_model2 = RheoModel(rKelvinVoigt, k = 4, η = 5)\n",
    "\n",
    "# my_σ = myderivCD(data.σ, data.t);\n",
    "# data = RheoTimeData(my_σ, [], data.t, data.log)\n",
    "# d_kv = modelpredict(data, rkv_model2)"
   ]
  },
  {
   "cell_type": "code",
   "execution_count": 38,
   "metadata": {},
   "outputs": [
    {
     "name": "stderr",
     "output_type": "stream",
     "text": [
      "┌ Warning: Initial values for model parameters are set to [0.5, 0.5] by default\n",
      "└ @ RHEOS C:\\Users\\sanja\\.julia\\packages\\RHEOS\\UUrax\\src\\processing.jl:250\n"
     ]
    },
    {
     "name": "stdout",
     "output_type": "stream",
     "text": [
      "Time: 0.029749201 s, Why: XTOL_REACHED, Parameters: [5.000014513731003, 3.99998539686203], Error: 4.543052839532814e-11\n"
     ]
    },
    {
     "data": {
      "text/plain": [
       "\n",
       "Model: KV\n",
       "\n",
       "Parameter values: (η = 5.000014513731003, k = 3.99998539686203) \n",
       "\n",
       "                        ___\n",
       "                _________| |________\n",
       "               |        _|_| η      |\n",
       "           ____|                    |____\n",
       "               |                    |\n",
       "               |____╱╲  ╱╲  ╱╲  ____|\n",
       "                      ╲╱  ╲╱  ╲╱\n",
       "                                k\n",
       "                "
      ]
     },
     "execution_count": 38,
     "metadata": {},
     "output_type": "execute_result"
    }
   ],
   "source": [
    "new_data = d_kv\n",
    "rkv_model3 = modelfit(new_data, rKelvinVoigt, stress_imposed)"
   ]
  },
  {
   "cell_type": "markdown",
   "metadata": {},
   "source": [
    "Now compare predictions using the fit parameters"
   ]
  },
  {
   "cell_type": "code",
   "execution_count": 46,
   "metadata": {},
   "outputs": [
    {
     "data": {
      "image/png": "[encoded data removed]",
      "text/plain": [
       "Figure(PyObject <Figure size 640x480 with 1 Axes>)"
      ]
     },
     "metadata": {},
     "output_type": "display_data"
    }
   ],
   "source": [
    "data = d_kv\n",
    "\n",
    "# my_σ = myderivCD(data.σ, data.t);\n",
    "# new_data = RheoTimeData(my_σ, data.ϵ, data.t, data.log)\n",
    "\n",
    "data_ext = extract(data,stress_only); # use the d(stress) for prediction\n",
    "\n",
    "rkv_predict = modelpredict(data_ext, rkv_model, diff_method = \"CD\")\n",
    "\n",
    "# Now we can plot data and model together for comparison\n",
    "plot(data.t,data.ϵ, \"or\");\n",
    "plot(rkv_predict.t,rkv_predict.ϵ, \"b\");\n",
    "\n",
    "\n",
    "xlabel(\"Time\");\n",
    "ylabel(\"Stress\");"
   ]
  },
  {
   "cell_type": "code",
   "execution_count": null,
   "metadata": {},
   "outputs": [],
   "source": []
  }
 ],
 "metadata": {
  "kernelspec": {
   "display_name": "Julia 1.5.1",
   "language": "julia",
   "name": "julia-1.5"
  },
  "language_info": {
   "file_extension": ".jl",
   "mimetype": "application/julia",
   "name": "julia",
   "version": "1.5.1"
  }
 },
 "nbformat": 4,
 "nbformat_minor": 4
}
