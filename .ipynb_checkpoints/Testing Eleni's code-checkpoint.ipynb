{
 "cells": [
  {
   "cell_type": "code",
   "execution_count": 40,
   "metadata": {},
   "outputs": [],
   "source": [
    "using RHEOS\n",
    "using PyPlot"
   ]
  },
  {
   "cell_type": "markdown",
   "metadata": {},
   "source": [
    "# Checking if RMC and RM have description field"
   ]
  },
  {
   "cell_type": "code",
   "execution_count": 41,
   "metadata": {},
   "outputs": [
    {
     "data": {
      "text/plain": [
       "\n",
       "Model name: spring\n",
       "\n",
       "Free parameters: k\n",
       "\n",
       "                ___╱╲  ╱╲  ╱╲  ________\n",
       "                     ╲╱  ╲╱  ╲╱  k\n",
       "                "
      ]
     },
     "execution_count": 41,
     "metadata": {},
     "output_type": "execute_result"
    }
   ],
   "source": [
    "spring = Spring"
   ]
  },
  {
   "cell_type": "code",
   "execution_count": 42,
   "metadata": {},
   "outputs": [
    {
     "data": {
      "text/plain": [
       "\n",
       "Model: maxwell\n",
       "\n",
       "Parameter values: (η = 5.0, k = 4.0) \n",
       "\n",
       "                ___\n",
       "            _____| |________╱╲  ╱╲  ╱╲  ___\n",
       "                _|_|          ╲╱  ╲╱  ╲╱\n",
       "                  η                  k\n",
       "               "
      ]
     },
     "execution_count": 42,
     "metadata": {},
     "output_type": "execute_result"
    }
   ],
   "source": [
    "maxwell = RheoModel(Maxwell, k = 4, η = 5)"
   ]
  },
  {
   "cell_type": "code",
   "execution_count": 43,
   "metadata": {},
   "outputs": [
    {
     "data": {
      "text/plain": [
       "1-element Array{Symbol,1}:\n",
       " :k"
      ]
     },
     "execution_count": 43,
     "metadata": {},
     "output_type": "execute_result"
    }
   ],
   "source": [
    "eval(maxwell.description.components[2][1]).params"
   ]
  },
  {
   "cell_type": "markdown",
   "metadata": {},
   "source": [
    "#  Test decompose function for Dashpot"
   ]
  },
  {
   "cell_type": "code",
   "execution_count": 44,
   "metadata": {},
   "outputs": [],
   "source": [
    "Dashpot_model=RheoModel(Dashpot, η=2)\n",
    "\n",
    "datat=timeline(t_start=0, t_end=10.0, step=0.02);\n",
    "\n",
    "# dstep=stressfunction(datat, hstep(offset=0.1, amp=0.9));\n",
    "dstep = strainfunction(datat,ramp(offset=2.0,gradient=0.8));\n",
    "# dstep = stressfunction(datat,hstep(offset=5.0,amp=5));\n",
    "\n",
    "data=modelpredict(dstep, Dashpot_model);"
   ]
  },
  {
   "cell_type": "code",
   "execution_count": 45,
   "metadata": {},
   "outputs": [],
   "source": [
    "output = decompose(Dashpot_model, data);\n",
    "# keys(output)"
   ]
  },
  {
   "cell_type": "code",
   "execution_count": 46,
   "metadata": {},
   "outputs": [
    {
     "data": {
      "text/plain": [
       "(data = ,)"
      ]
     },
     "execution_count": 46,
     "metadata": {},
     "output_type": "execute_result"
    },
    {
     "name": "stdout",
     "output_type": "stream",
     "text": [
      "t =\t0.0\t0.02\t0.04\t0.06\t0.08\t0.1\t0.12\t0.14\t0.16\t0.18\t...\n",
      "ϵ =\t0.0\t0.0\t0.0\t0.0\t0.0\t0.0\t0.0\t0.0\t0.0\t0.0\t...\n",
      "σ =\t-2.8872847675331055e-16\t2.8872847675331055e-16\t1.4436423837665528e-16\t1.4436423837665528e-16\t2.8872847675331055e-16\t2.8872847675331055e-16\t2.8872847675331055e-16\t2.8872847675331055e-16\t5.774569535066211e-16\t5.774569535066211e-16\t...\n"
     ]
    }
   ],
   "source": [
    "output"
   ]
  },
  {
   "cell_type": "code",
   "execution_count": 47,
   "metadata": {},
   "outputs": [
    {
     "data": {
      "image/png": "[encoded data removed]",
      "text/plain": [
       "Figure(PyObject <Figure size 640x480 with 1 Axes>)"
      ]
     },
     "metadata": {},
     "output_type": "display_data"
    },
    {
     "data": {
      "text/plain": [
       "PyObject <matplotlib.legend.Legend object at 0x000000004A920760>"
      ]
     },
     "execution_count": 47,
     "metadata": {},
     "output_type": "execute_result"
    }
   ],
   "source": [
    "plot(data.t, data.σ, \"o\")\n",
    "# plot(output[\"data\"].t, output[\"data\"].σ, \"-y\")\n",
    "plot(output.data.t, output.data.σ, \"-y\")\n",
    "xlabel(\"time\")\n",
    "ylabel(\"stress\")\n",
    "legend([\"original data\", \"data inside dict\"])"
   ]
  },
  {
   "cell_type": "markdown",
   "metadata": {},
   "source": [
    "# Test decompose function for Maxwell"
   ]
  },
  {
   "cell_type": "code",
   "execution_count": 48,
   "metadata": {},
   "outputs": [],
   "source": [
    "Maxwell_model=RheoModel(Maxwell, η=1, k=2)\n",
    "\n",
    "datat=timeline(t_start=0, t_end=10.0, step=0.02);\n",
    "# dstep=stressfunction(datat, hstep(offset=0.1, amp=0.9));\n",
    "dstep = stressfunction(datat,hstep(offset=5.0,amp=5));\n",
    "\n",
    "data=modelpredict(dstep, Maxwell_model);"
   ]
  },
  {
   "cell_type": "code",
   "execution_count": 49,
   "metadata": {},
   "outputs": [
    {
     "name": "stdout",
     "output_type": "stream",
     "text": [
      "[:η]Array{Symbol,1}[:k]Array{Symbol,1}"
     ]
    }
   ],
   "source": [
    "output = decompose(Maxwell_model, data);\n",
    "# keys(output)"
   ]
  },
  {
   "cell_type": "code",
   "execution_count": 50,
   "metadata": {},
   "outputs": [
    {
     "data": {
      "text/plain": [
       "(data = , Dashpot = (data = ,), Spring = (data = ,))"
      ]
     },
     "execution_count": 50,
     "metadata": {},
     "output_type": "execute_result"
    },
    {
     "name": "stdout",
     "output_type": "stream",
     "text": [
      "t =\t0.0\t0.02\t0.04\t0.06\t0.08\t0.1\t0.12\t0.14\t0.16\t0.18\t...\n",
      "ϵ =\t6.929483442079453e-15\t0.0\t2.3098278140264844e-15\t6.929483442079453e-15\t1.8478622512211875e-14\t-4.619655628052969e-15\t9.239311256105938e-15\t6.929483442079453e-15\t9.239311256105938e-15\t-6.929483442079453e-15\t...\n",
      "σ =\t0.0\t0.0\t0.0\t0.0\t0.0\t0.0\t0.0\t0.0\t0.0\t0.0\t...\n",
      "t =\t0.0\t0.02\t0.04\t0.06\t0.08\t0.1\t0.12\t0.14\t0.16\t0.18\t...\n",
      "ϵ =\t9.239311256105938e-15\t-2.3098278140264844e-15\t4.619655628052969e-15\t0.0\t1.1549139070132422e-14\t4.619655628052969e-15\t4.619655628052969e-15\t4.619655628052969e-15\t9.239311256105938e-15\t0.0\t...\n",
      "σ =\t0.0\t0.0\t0.0\t0.0\t0.0\t0.0\t0.0\t0.0\t0.0\t0.0\t...\n",
      "t =\t0.0\t0.02\t0.04\t0.06\t0.08\t0.1\t0.12\t0.14\t0.16\t0.18\t...\n",
      "ϵ =\t-4.3309271512996583e-16\t1.4436423837665528e-16\t2.8872847675331055e-16\t1.010549668636587e-15\t2.8872847675331055e-16\t4.3309271512996583e-16\t5.774569535066211e-16\t-1.4436423837665528e-16\t2.8872847675331055e-16\t-2.8872847675331055e-16\t...\n",
      "σ =\t0.0\t0.0\t0.0\t0.0\t0.0\t0.0\t0.0\t0.0\t0.0\t0.0\t...\n"
     ]
    }
   ],
   "source": [
    "output"
   ]
  },
  {
   "cell_type": "code",
   "execution_count": 51,
   "metadata": {},
   "outputs": [
    {
     "data": {
      "image/png": "[encoded data removed]",
      "text/plain": [
       "Figure(PyObject <Figure size 640x480 with 1 Axes>)"
      ]
     },
     "metadata": {},
     "output_type": "display_data"
    },
    {
     "data": {
      "text/plain": [
       "PyObject Text(0.5, 1.0, 'For Maxwell')"
      ]
     },
     "execution_count": 51,
     "metadata": {},
     "output_type": "execute_result"
    }
   ],
   "source": [
    "plot(data.t, data.σ, \"o\")\n",
    "# plot(output[\"spring\"][\"data\"].t, output[\"spring\"][\"data\"].σ, \".\") # Dict\n",
    "# plot(output[\"dashpot\"][\"data\"].t, output[\"dashpot\"][\"data\"].σ) # Dict\n",
    "plot(output.Spring.data.t, output.Spring.data.σ, \".\")\n",
    "plot(output.Dashpot.data.t, output.Dashpot.data.σ)\n",
    "legend([\"original data\", \"spring\", \"dashpot\"])\n",
    "xlabel(\"time\")\n",
    "ylabel(\"stress\")\n",
    "title(\"For Maxwell\")"
   ]
  },
  {
   "cell_type": "markdown",
   "metadata": {},
   "source": [
    "# Testing of BurgersLiquid model"
   ]
  },
  {
   "cell_type": "code",
   "execution_count": 67,
   "metadata": {},
   "outputs": [],
   "source": [
    "BL_model=RheoModel(BurgersLiquid, η₁=1 , k₁=1, η₂=2, k₂=2)\n",
    "\n",
    "datat=timeline(t_start=0, t_end=10.0, step=0.02);\n",
    "# dstep=stressfunction(datat, hstep(offset=0.1, amp=0.9));\n",
    "# dstep = stressfunction(datat,hstep(offset=5.0,amp=5));\n",
    "dstep = strainfunction(datat,ramp(offset=2.0,gradient=0.8)) - strainfunction(datat,ramp(offset=5.0,gradient=0.8));\n",
    "\n",
    "data=modelpredict(dstep, BL_model);"
   ]
  },
  {
   "cell_type": "code",
   "execution_count": 68,
   "metadata": {},
   "outputs": [
    {
     "name": "stdout",
     "output_type": "stream",
     "text": [
      "[:η]Array{Symbol,1}[:k]Array{Symbol,1}[:η, :k]Array{Symbol,1}[:η]Array{Symbol,1}[:k]Array{Symbol,1}"
     ]
    }
   ],
   "source": [
    "output = decompose(BL_model, data);\n",
    "# keys(output)"
   ]
  },
  {
   "cell_type": "code",
   "execution_count": 69,
   "metadata": {},
   "outputs": [
    {
     "data": {
      "text/plain": [
       "(data = , Dashpot = (data = ,), Spring = (data = ,), KelvinVoigt = (data = , Dashpot = (data = ,), Spring = (data = ,)))"
      ]
     },
     "execution_count": 69,
     "metadata": {},
     "output_type": "execute_result"
    },
    {
     "name": "stdout",
     "output_type": "stream",
     "text": [
      "t =\t0.0\t0.02\t0.04\t0.06\t0.08\t0.1\t0.12\t0.14\t0.16\t0.18\t...\n",
      "ϵ =\t0.0\t0.0\t0.0\t0.0\t0.0\t0.0\t0.0\t0.0\t0.0\t0.0\t...\n",
      "σ =\t0.0\t1.804552979708191e-17\t3.609105959416382e-17\t3.609105959416382e-17\t0.0\t3.609105959416382e-17\t0.0\t-3.609105959416382e-17\t1.804552979708191e-17\t3.609105959416382e-17\t...\n",
      "t =\t0.0\t0.02\t0.04\t0.06\t0.08\t0.1\t0.12\t0.14\t0.16\t0.18\t...\n",
      "ϵ =\t-4.3309271512996583e-16\t-5.774569535066211e-16\t-5.774569535066211e-16\t-4.3309271512996583e-16\t-8.661854302599317e-16\t-1.010549668636587e-15\t-8.661854302599317e-16\t-1.010549668636587e-15\t0.0\t-7.218211918832764e-16\t...\n",
      "σ =\t0.0\t1.804552979708191e-17\t3.609105959416382e-17\t3.609105959416382e-17\t0.0\t3.609105959416382e-17\t0.0\t-3.609105959416382e-17\t1.804552979708191e-17\t3.609105959416382e-17\t...\n",
      "t =\t0.0\t0.02\t0.04\t0.06\t0.08\t0.1\t0.12\t0.14\t0.16\t0.18\t...\n",
      "ϵ =\t1.1278456123176193e-17\t-3.383536836952858e-17\t-6.767073673905716e-18\t1.3534147347811432e-17\t1.1278456123176193e-17\t3.8346750818799055e-17\t-5.86479718405162e-17\t-5.413658939124573e-17\t6.541504551442192e-17\t0.0\t...\n",
      "σ =\t0.0\t1.804552979708191e-17\t3.609105959416382e-17\t3.609105959416382e-17\t0.0\t3.609105959416382e-17\t0.0\t-3.609105959416382e-17\t1.804552979708191e-17\t3.609105959416382e-17\t...\n",
      "t =\t0.0\t0.02\t0.04\t0.06\t0.08\t0.1\t0.12\t0.14\t0.16\t0.18\t...\n",
      "ϵ =\t-3.157967714489334e-17\t-4.511382449270477e-18\t-9.022764898540955e-18\t-3.609105959416382e-17\t-2.2556912246352387e-18\t-4.5113824492704774e-17\t9.022764898540955e-18\t-9.022764898540955e-18\t-3.157967714489334e-17\t-3.609105959416382e-17\t...\n",
      "σ =\t0.0\t1.804552979708191e-17\t3.609105959416382e-17\t3.609105959416382e-17\t0.0\t3.609105959416382e-17\t0.0\t-3.609105959416382e-17\t1.804552979708191e-17\t3.609105959416382e-17\t...\n",
      "t =\t0.0\t0.02\t0.04\t0.06\t0.08\t0.1\t0.12\t0.14\t0.16\t0.18\t...\n",
      "ϵ =\t-3.157967714489334e-17\t-4.511382449270477e-18\t-9.022764898540955e-18\t-3.609105959416382e-17\t-2.2556912246352387e-18\t-4.5113824492704774e-17\t9.022764898540955e-18\t-9.022764898540955e-18\t-3.157967714489334e-17\t-3.609105959416382e-17\t...\n",
      "σ =\t-3.157967714489334e-15\t-6.33849234122502e-15\t-8.535535594019743e-15\t-2.5353969364900083e-15\t-1.0191212952902008e-14\t-5.075305255429287e-16\t-7.691907076006163e-15\t-8.161090850730294e-15\t-6.315935428978668e-15\t-6.117434601210767e-15\t...\n",
      "t =\t0.0\t0.02\t0.04\t0.06\t0.08\t0.1\t0.12\t0.14\t0.16\t0.18\t...\n",
      "ϵ =\t-3.157967714489334e-17\t-4.511382449270477e-18\t-9.022764898540955e-18\t-3.609105959416382e-17\t-2.2556912246352387e-18\t-4.5113824492704774e-17\t9.022764898540955e-18\t-9.022764898540955e-18\t-3.157967714489334e-17\t-3.609105959416382e-17\t...\n",
      "σ =\t-3.609105959416382e-17\t2.7068294695622864e-17\t-4.511382449270477e-18\t-1.2631870857957337e-16\t-4.511382449270477e-18\t-9.473903143468002e-17\t3.609105959416382e-17\t-1.3534147347811432e-17\t-9.92504138839505e-17\t-1.1278456123176193e-16\t...\n"
     ]
    }
   ],
   "source": [
    "output"
   ]
  },
  {
   "cell_type": "code",
   "execution_count": 70,
   "metadata": {},
   "outputs": [
    {
     "data": {
      "image/png": "[encoded data removed]",
      "text/plain": [
       "Figure(PyObject <Figure size 640x480 with 1 Axes>)"
      ]
     },
     "metadata": {},
     "output_type": "display_data"
    },
    {
     "data": {
      "text/plain": [
       "PyObject <matplotlib.legend.Legend object at 0x000000004A9E48B0>"
      ]
     },
     "execution_count": 70,
     "metadata": {},
     "output_type": "execute_result"
    }
   ],
   "source": [
    "plot(data.t, data.σ, \"o\")\n",
    "# plot(output[\"KV\"][\"data\"].t, output[\"KV\"][\"data\"].σ, \"-y\")\n",
    "plot(output.KelvinVoigt.data.t, output.KelvinVoigt.data.σ, \"-y\")\n",
    "xlabel(\"time\")\n",
    "ylabel(\"stress\")\n",
    "legend([\"original data\", \"KV part of BurgersLiquid\"])"
   ]
  },
  {
   "cell_type": "code",
   "execution_count": 72,
   "metadata": {},
   "outputs": [
    {
     "data": {
      "image/png": "[encoded data removed]",
      "text/plain": [
       "Figure(PyObject <Figure size 640x480 with 1 Axes>)"
      ]
     },
     "metadata": {},
     "output_type": "display_data"
    },
    {
     "data": {
      "text/plain": [
       "PyObject <matplotlib.legend.Legend object at 0x000000004AC1BA00>"
      ]
     },
     "execution_count": 72,
     "metadata": {},
     "output_type": "execute_result"
    }
   ],
   "source": [
    "plot(output.KelvinVoigt.Dashpot.data.t, output.KelvinVoigt.Dashpot.data.ϵ, \"o\")\n",
    "plot(output.KelvinVoigt.Spring.data.t, output.KelvinVoigt.Spring.data.ϵ, \"-y\")\n",
    "xlabel(\"time\")\n",
    "ylabel(\"strain\")\n",
    "legend([\"dashpot of KV of Burger\", \"spring of KV of Burger\"])"
   ]
  },
  {
   "cell_type": "markdown",
   "metadata": {},
   "source": [
    "# Random work"
   ]
  },
  {
   "cell_type": "code",
   "execution_count": null,
   "metadata": {},
   "outputs": [],
   "source": [
    "maxwell = RheoModel(Maxwell, k = 4, η = 5)\n",
    "a = eval(maxwell.description.components[2]).params\n",
    "typeof(a)"
   ]
  },
  {
   "cell_type": "code",
   "execution_count": null,
   "metadata": {},
   "outputs": [],
   "source": [
    "maxwell.params[1]"
   ]
  },
  {
   "cell_type": "code",
   "execution_count": null,
   "metadata": {},
   "outputs": [],
   "source": [
    "b = maxwell.params"
   ]
  },
  {
   "cell_type": "code",
   "execution_count": null,
   "metadata": {},
   "outputs": [],
   "source": [
    "[i for i in maxwell.params]"
   ]
  },
  {
   "cell_type": "code",
   "execution_count": null,
   "metadata": {},
   "outputs": [],
   "source": [
    "a"
   ]
  },
  {
   "cell_type": "code",
   "execution_count": null,
   "metadata": {},
   "outputs": [],
   "source": [
    "a = [4,5,6]"
   ]
  },
  {
   "cell_type": "code",
   "execution_count": null,
   "metadata": {},
   "outputs": [],
   "source": [
    "popfirst!(a)"
   ]
  },
  {
   "cell_type": "code",
   "execution_count": null,
   "metadata": {},
   "outputs": [],
   "source": [
    "a"
   ]
  },
  {
   "cell_type": "code",
   "execution_count": null,
   "metadata": {},
   "outputs": [],
   "source": [
    "c = NamedTuple{(:a,)}((NamedTuple{(:a, :b)}((1,\"\")),))"
   ]
  },
  {
   "cell_type": "code",
   "execution_count": null,
   "metadata": {},
   "outputs": [],
   "source": [
    "typeof(c)"
   ]
  },
  {
   "cell_type": "code",
   "execution_count": null,
   "metadata": {},
   "outputs": [],
   "source": [
    "NamedTuple{(:a,:a)}((1,2))"
   ]
  },
  {
   "cell_type": "code",
   "execution_count": null,
   "metadata": {},
   "outputs": [],
   "source": [
    "list = [:a,:b,:c]"
   ]
  },
  {
   "cell_type": "code",
   "execution_count": null,
   "metadata": {},
   "outputs": [],
   "source": [
    "typeof(Tuple(list))"
   ]
  },
  {
   "cell_type": "code",
   "execution_count": null,
   "metadata": {},
   "outputs": [],
   "source": [
    "pushfirst!([:Maxwell, :Spring], :data)"
   ]
  },
  {
   "cell_type": "code",
   "execution_count": null,
   "metadata": {},
   "outputs": [],
   "source": [
    "comp = collect((:Maxwell, :Spring))"
   ]
  },
  {
   "cell_type": "code",
   "execution_count": null,
   "metadata": {},
   "outputs": [],
   "source": [
    "for c in comp\n",
    "    if c==:Maxwell\n",
    "        print(c)\n",
    "    end\n",
    "    print(typeof(c))\n",
    "end"
   ]
  },
  {
   "cell_type": "code",
   "execution_count": null,
   "metadata": {},
   "outputs": [],
   "source": [
    "values = []"
   ]
  },
  {
   "cell_type": "code",
   "execution_count": null,
   "metadata": {},
   "outputs": [],
   "source": [
    "component1=(:Maxwell, (:η, :kᵦ,))"
   ]
  },
  {
   "cell_type": "code",
   "execution_count": null,
   "metadata": {},
   "outputs": [],
   "source": [
    "component1.Maxwell"
   ]
  },
  {
   "cell_type": "code",
   "execution_count": null,
   "metadata": {},
   "outputs": [],
   "source": [
    "c = collect( (:data,(:Dashpot, (:η,)), (:Spring, (:k,))) )"
   ]
  },
  {
   "cell_type": "code",
   "execution_count": null,
   "metadata": {},
   "outputs": [],
   "source": [
    "c[1] == :data"
   ]
  },
  {
   "cell_type": "code",
   "execution_count": null,
   "metadata": {},
   "outputs": [],
   "source": [
    "a = (5 +\n",
    ",6 +\n",
    ",7)"
   ]
  },
  {
   "cell_type": "code",
   "execution_count": null,
   "metadata": {},
   "outputs": [],
   "source": [
    "a"
   ]
  },
  {
   "cell_type": "code",
   "execution_count": 52,
   "metadata": {},
   "outputs": [
    {
     "data": {
      "text/plain": [
       "1-element Array{Symbol,1}:\n",
       " :η"
      ]
     },
     "execution_count": 52,
     "metadata": {},
     "output_type": "execute_result"
    }
   ],
   "source": [
    "params = [:η]"
   ]
  },
  {
   "cell_type": "code",
   "execution_count": 62,
   "metadata": {},
   "outputs": [
    {
     "data": {
      "text/plain": [
       "5"
      ]
     },
     "execution_count": 62,
     "metadata": {},
     "output_type": "execute_result"
    }
   ],
   "source": [
    "values = (η=5)"
   ]
  },
  {
   "cell_type": "code",
   "execution_count": 59,
   "metadata": {},
   "outputs": [
    {
     "data": {
      "text/plain": [
       "5"
      ]
     },
     "execution_count": 59,
     "metadata": {},
     "output_type": "execute_result"
    }
   ],
   "source": [
    "values[:η]"
   ]
  },
  {
   "cell_type": "code",
   "execution_count": 65,
   "metadata": {},
   "outputs": [
    {
     "data": {
      "text/plain": [
       ":η => 5"
      ]
     },
     "execution_count": 65,
     "metadata": {},
     "output_type": "execute_result"
    }
   ],
   "source": [
    ":η=>5"
   ]
  },
  {
   "cell_type": "code",
   "execution_count": 60,
   "metadata": {},
   "outputs": [
    {
     "data": {
      "text/plain": [
       "Float64[]"
      ]
     },
     "execution_count": 60,
     "metadata": {},
     "output_type": "execute_result"
    }
   ],
   "source": [
    "pval = Vector{Float64}()"
   ]
  },
  {
   "cell_type": "code",
   "execution_count": 66,
   "metadata": {},
   "outputs": [
    {
     "ename": "LoadError",
     "evalue": "MethodError: no method matching getindex(::Int64, ::Symbol)\nClosest candidates are:\n  getindex(::Number) at number.jl:75\n  getindex(::Number, !Matched::Integer) at number.jl:76\n  getindex(::Number, !Matched::Integer...) at number.jl:81\n  ...",
     "output_type": "error",
     "traceback": [
      "MethodError: no method matching getindex(::Int64, ::Symbol)\nClosest candidates are:\n  getindex(::Number) at number.jl:75\n  getindex(::Number, !Matched::Integer) at number.jl:76\n  getindex(::Number, !Matched::Integer...) at number.jl:81\n  ...",
      "",
      "Stacktrace:",
      " [1] top-level scope at In[66]:1",
      " [2] include_string(::Function, ::Module, ::String, ::String) at .\\loading.jl:1091"
     ]
    }
   ],
   "source": [
    "append!(pval, values[:η])"
   ]
  },
  {
   "cell_type": "code",
   "execution_count": null,
   "metadata": {},
   "outputs": [],
   "source": []
  }
 ],
 "metadata": {
  "kernelspec": {
   "display_name": "Julia 1.5.1",
   "language": "julia",
   "name": "julia-1.5"
  },
  "language_info": {
   "file_extension": ".jl",
   "mimetype": "application/julia",
   "name": "julia",
   "version": "1.5.1"
  }
 },
 "nbformat": 4,
 "nbformat_minor": 4
}
