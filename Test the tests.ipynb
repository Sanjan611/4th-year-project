{
 "cells": [
  {
   "cell_type": "code",
   "execution_count": 1,
   "metadata": {},
   "outputs": [],
   "source": [
    "using RHEOS"
   ]
  },
  {
   "cell_type": "code",
   "execution_count": 2,
   "metadata": {},
   "outputs": [
    {
     "data": {
      "text/plain": [
       "Fract_KelvinVoigt_G_reduce (generic function with 1 method)"
      ]
     },
     "execution_count": 2,
     "metadata": {},
     "output_type": "execute_result"
    }
   ],
   "source": [
    "function Fract_KelvinVoigt_G_reduce()\n",
    "    dt = 0.001\n",
    "    # fractional modulus is NaN not inf at 0.0 so start at dt\n",
    "    t = collect(dt:dt:10.0)\n",
    "\n",
    "    fm_model = relaxmod(Fract_KelvinVoigt, t, [1.0, 1.0, 1.0, 0.0])\n",
    "    kelvinvoigt = relaxmod(KelvinVoigt, t, [1.0, 1.0])\n",
    "\n",
    "    all(i -> isapprox(fm_model[i], kelvinvoigt[i]), eachindex(t))\n",
    "end"
   ]
  },
  {
   "cell_type": "code",
   "execution_count": 3,
   "metadata": {},
   "outputs": [
    {
     "data": {
      "text/plain": [
       "false"
      ]
     },
     "execution_count": 3,
     "metadata": {},
     "output_type": "execute_result"
    }
   ],
   "source": [
    "Fract_KelvinVoigt_G_reduce()"
   ]
  },
  {
   "cell_type": "code",
   "execution_count": 4,
   "metadata": {},
   "outputs": [
    {
     "data": {
      "text/plain": [
       "false"
      ]
     },
     "execution_count": 4,
     "metadata": {},
     "output_type": "execute_result"
    }
   ],
   "source": [
    "dt = 0.001\n",
    "# fractional modulus is NaN not inf at 0.0 so start at dt\n",
    "t = collect(dt:dt:10.0)\n",
    "\n",
    "fm_model = relaxmod(Fract_KelvinVoigt, t, [1.0, 1.0, 1.0, 0.0])\n",
    "kelvinvoigt = relaxmod(KelvinVoigt, t, [1.0, 1.0])\n",
    "\n",
    "all(i -> isapprox(fm_model[i], kelvinvoigt[i]), eachindex(t))"
   ]
  },
  {
   "cell_type": "code",
   "execution_count": 5,
   "metadata": {},
   "outputs": [
    {
     "data": {
      "text/plain": [
       "10000-element Array{Float64,1}:\n",
       " 1.0\n",
       " 1.0\n",
       " 1.0\n",
       " 1.0\n",
       " 1.0\n",
       " 1.0\n",
       " 1.0\n",
       " 1.0\n",
       " 1.0\n",
       " 1.0\n",
       " 1.0\n",
       " 1.0\n",
       " 1.0\n",
       " ⋮\n",
       " 1.0\n",
       " 1.0\n",
       " 1.0\n",
       " 1.0\n",
       " 1.0\n",
       " 1.0\n",
       " 1.0\n",
       " 1.0\n",
       " 1.0\n",
       " 1.0\n",
       " 1.0\n",
       " 1.0"
      ]
     },
     "execution_count": 5,
     "metadata": {},
     "output_type": "execute_result"
    }
   ],
   "source": [
    "fm_model"
   ]
  },
  {
   "cell_type": "code",
   "execution_count": 6,
   "metadata": {},
   "outputs": [
    {
     "data": {
      "text/plain": [
       "10000-element Array{Float64,1}:\n",
       "  1.001\n",
       "  1.002\n",
       "  1.003\n",
       "  1.004\n",
       "  1.005\n",
       "  1.006\n",
       "  1.007\n",
       "  1.008\n",
       "  1.009\n",
       "  1.01\n",
       "  1.011\n",
       "  1.012\n",
       "  1.013\n",
       "  ⋮\n",
       " 10.989\n",
       " 10.99\n",
       " 10.991\n",
       " 10.992\n",
       " 10.993\n",
       " 10.994\n",
       " 10.995\n",
       " 10.996\n",
       " 10.997\n",
       " 10.998\n",
       " 10.999\n",
       " 11.0"
      ]
     },
     "execution_count": 6,
     "metadata": {},
     "output_type": "execute_result"
    }
   ],
   "source": [
    "kelvinvoigt"
   ]
  },
  {
   "cell_type": "code",
   "execution_count": 7,
   "metadata": {},
   "outputs": [
    {
     "data": {
      "text/plain": [
       "#86 (generic function with 1 method)"
      ]
     },
     "execution_count": 7,
     "metadata": {},
     "output_type": "execute_result"
    }
   ],
   "source": [
    "relaxmod(KelvinVoigt)"
   ]
  },
  {
   "cell_type": "code",
   "execution_count": 9,
   "metadata": {},
   "outputs": [],
   "source": [
    "using SpecialFunctions"
   ]
  },
  {
   "cell_type": "code",
   "execution_count": 10,
   "metadata": {},
   "outputs": [
    {
     "data": {
      "text/plain": [
       "Inf"
      ]
     },
     "execution_count": 10,
     "metadata": {},
     "output_type": "execute_result"
    }
   ],
   "source": [
    "gamma(0)"
   ]
  },
  {
   "cell_type": "code",
   "execution_count": null,
   "metadata": {},
   "outputs": [],
   "source": []
  }
 ],
 "metadata": {
  "kernelspec": {
   "display_name": "Julia 1.5.1",
   "language": "julia",
   "name": "julia-1.5"
  },
  "language_info": {
   "file_extension": ".jl",
   "mimetype": "application/julia",
   "name": "julia",
   "version": "1.5.1"
  }
 },
 "nbformat": 4,
 "nbformat_minor": 4
}
